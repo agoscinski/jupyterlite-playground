{
 "cells": [
  {
   "cell_type": "code",
   "execution_count": 4,
   "id": "a0c2f113",
   "metadata": {},
   "outputs": [],
   "source": [
    "import chemiscope\n",
    "import ase"
   ]
  },
  {
   "cell_type": "code",
   "execution_count": 5,
   "id": "c450b129",
   "metadata": {},
   "outputs": [
    {
     "data": {
      "application/vnd.jupyter.widget-view+json": {
       "model_id": "dc3102c4351d44569ddac8a35b69da9f",
       "version_major": 2,
       "version_minor": 0
      },
      "text/plain": [
       "StructureWidget(value='{\"meta\": {\"name\": \" \"}, \"structures\": [{\"size\": 2, \"names\": [\"H\", \"H\"], \"x\": [0.0, 1.0]…"
      ]
     },
     "metadata": {},
     "output_type": "display_data"
    }
   ],
   "source": [
    "structure = ase.Atoms('HH', positions=[[0,0,0], [1,0,0]])\n",
    "\n",
    "\n",
    "chemiscope_widget = chemiscope.show(frames = [structure], properties=chemiscope.extract_properties([structure]), mode=\"structure\")\n",
    "display(chemiscope_widget)\n"
   ]
  },
  {
   "cell_type": "code",
   "execution_count": 8,
   "id": "9c9900a7",
   "metadata": {},
   "outputs": [],
   "source": [
    "from widget_code_input import WidgetCodeInput"
   ]
  },
  {
   "cell_type": "code",
   "execution_count": 10,
   "id": "2248fb69",
   "metadata": {},
   "outputs": [],
   "source": [
    "ex02_wci = WidgetCodeInput(\n",
    "        function_name=\"methylammonium\", \n",
    "        function_parameters=\"\",\n",
    "        docstring=\"\"\"\n",
    "Loads the structure #1 from the data/qm7b-ase.xyz file, \n",
    "and modifies the composition so that it corresponds to CH3NH3+. \n",
    "\n",
    ":return: an ASE atoms object that describes the molecular structure\n",
    "\"\"\",\n",
    "            function_body=\"\"\"\n",
    "# Write your solution, then click on the button below to update the plotter \n",
    "# and check against the reference value\n",
    "\n",
    "import ase\n",
    "from ase.io import read\n",
    "\n",
    "structure = []  # load here\n",
    "\n",
    "# modify the structure ...\n",
    "\n",
    "return structure\n",
    "\"\"\"\n",
    ")"
   ]
  },
  {
   "cell_type": "code",
   "execution_count": 11,
   "id": "6230aa0b",
   "metadata": {},
   "outputs": [
    {
     "data": {
      "application/vnd.jupyter.widget-view+json": {
       "model_id": "d5c5574296924c07943e246fbfe7eb45",
       "version_major": 2,
       "version_minor": 0
      },
      "text/plain": [
       "WidgetCodeInput(code_theme='nord', docstring='\\nLoads the structure #1 from the data/qm7b-ase.xyz file, \\nand …"
      ]
     },
     "metadata": {},
     "output_type": "display_data"
    }
   ],
   "source": [
    "display(ex02_wci)"
   ]
  }
 ],
 "metadata": {
  "kernelspec": {
   "display_name": "Python 3 (ipykernel)",
   "language": "python",
   "name": "python3"
  },
  "language_info": {
   "codemirror_mode": {
    "name": "ipython",
    "version": 3
   },
   "file_extension": ".py",
   "mimetype": "text/x-python",
   "name": "python",
   "nbconvert_exporter": "python",
   "pygments_lexer": "ipython3",
   "version": "3.10.9"
  },
  "widgets": {
   "application/vnd.jupyter.widget-state+json": {
    "state": {
     "2177ab1d35e84d6794fadcbf9d0e315a": {
      "model_module": "@jupyter-widgets/base",
      "model_module_version": "2.0.0",
      "model_name": "LayoutModel",
      "state": {}
     },
     "c59793b80b18412db4c66c13be82fe77": {
      "model_module": "@jupyter-widgets/base",
      "model_module_version": "2.0.0",
      "model_name": "LayoutModel",
      "state": {}
     },
     "d5c5574296924c07943e246fbfe7eb45": {
      "model_module": "widget_code_input",
      "model_module_version": "^3.5.5",
      "model_name": "WidgetCodeModel",
      "state": {
       "_model_module_version": "^3.5.5",
       "_view_module_version": "^3.5.5",
       "code_theme": "nord",
       "docstring": "\nLoads the structure #1 from the data/qm7b-ase.xyz file, \nand modifies the composition so that it corresponds to CH3NH3+. \n\n:return: an ASE atoms object that describes the molecular structure\n",
       "function_body": "\n# Write your solution, then click on the button below to update the plotter \n# and check against the reference value\n\nimport ase\nfrom ase.io import read\n\nstructure = []  # load here\n\n# modify the structure ...\n\nreturn structure\n",
       "function_body_id": "function_body1",
       "function_name": "methylammonium",
       "function_parameters": "",
       "layout": "IPY_MODEL_2177ab1d35e84d6794fadcbf9d0e315a"
      }
     },
     "dc3102c4351d44569ddac8a35b69da9f": {
      "model_module": "@jupyter-widgets/base",
      "model_module_version": "2.0.0",
      "model_name": "DOMWidgetModel",
      "state": {
       "_model_name": "DOMWidgetModel",
       "_settings_sync": true,
       "_view_module": "chemiscope",
       "_view_module_version": "0.5.2",
       "_view_name": "StructureView",
       "has_metadata": false,
       "layout": "IPY_MODEL_c59793b80b18412db4c66c13be82fe77",
       "settings": {
        "structure": [
         {
          "atomLabels": false,
          "axes": "off",
          "bonds": true,
          "environments": {
           "activated": true,
           "bgColor": "grey",
           "bgStyle": "ball-stick",
           "center": false,
           "cutoff": 0
          },
          "keepOrientation": false,
          "playbackDelay": 700,
          "rotation": false,
          "spaceFilling": false,
          "supercell": {
           "0": 1,
           "1": 1,
           "2": 1
          },
          "unitCell": false
         }
        ]
       },
       "value": "{\"meta\": {\"name\": \" \"}, \"structures\": [{\"size\": 2, \"names\": [\"H\", \"H\"], \"x\": [0.0, 1.0], \"y\": [0.0, 0.0], \"z\": [0.0, 0.0]}], \"properties\": {\"index\": {\"target\": \"structure\", \"values\": [0.0]}}}"
      }
     }
    },
    "version_major": 2,
    "version_minor": 0
   }
  }
 },
 "nbformat": 4,
 "nbformat_minor": 5
}
